{
 "cells": [
  {
   "attachments": {},
   "cell_type": "markdown",
   "metadata": {},
   "source": [
    "\n",
    "DESARROLLO DE FUNCIONES"
   ]
  },
  {
   "cell_type": "code",
   "execution_count": 1,
   "metadata": {},
   "outputs": [],
   "source": [
    "#Importacion de librerias a utilizar\n",
    "\n",
    "import pandas as pd"
   ]
  },
  {
   "cell_type": "code",
   "execution_count": 2,
   "metadata": {},
   "outputs": [],
   "source": [
    "#Ingesta del datafrmae generado luego del proceso de ETL\n",
    "general_df =pd.read_csv('plataformas.csv')"
   ]
  },
  {
   "cell_type": "markdown",
   "metadata": {},
   "source": [
    "-----------------------------------------------------------------------------\n",
    "Consultas a generar:\n",
    "\n",
    "Cantidad de veces que aparece una keyword en el título de peliculas/series, por plataforma\n",
    "\n",
    "Cantidad de películas por plataforma con un puntaje mayor a XX en determinado año -- Ok\n",
    "\n",
    "La segunda película con mayor score para una plataforma determinada, según el orden alfabético de los títulos.\n",
    "\n",
    "Película que más duró según año, plataforma y tipo de duración ---- OK\n",
    "\n",
    "Cantidad de series y películas por rating ---- OK\n",
    "\n",
    "-----------------------------------------------------------------------------\n",
    "Consulta 1: Cantidad de veces que aparece una keyword en el título de peliculas/series, por plataforma"
   ]
  },
  {
   "cell_type": "code",
   "execution_count": 3,
   "metadata": {},
   "outputs": [],
   "source": [
    "def get_word_count(plataform, keyword):\n",
    "    if plataform == \"amazon\":\n",
    "        df_gwc = general_df[general_df['ID'].str.contains(\"a\")]\n",
    "    elif plataform == \"dinsey\":\n",
    "        df_gwc = general_df[general_df['ID'].str.contains(\"d\")]\n",
    "    elif plataform == \"hulu\":\n",
    "        df_gwc = general_df[general_df['ID'].str.contains(\"h\")]\n",
    "    elif plataform == \"netflix\":\n",
    "        df_gwc = general_df[general_df['ID'].str.contains(\"n\")]\n",
    "    else:\n",
    "        print(\"Try again\")\n",
    "    \n",
    "    valor = df_gwc['title'].str.contains(keyword).value_counts()[True]\n",
    "\n",
    "    return print(\"La palabra\", keyword, \"aparece\", valor, \"veces en la plataforma\", plataform)"
   ]
  },
  {
   "cell_type": "code",
   "execution_count": 4,
   "metadata": {},
   "outputs": [
    {
     "name": "stdout",
     "output_type": "stream",
     "text": [
      "La palabra love aparece 196 veces en la plataforma netflix\n"
     ]
    }
   ],
   "source": [
    "get_word_count(\"netflix\", \"love\")"
   ]
  },
  {
   "cell_type": "markdown",
   "metadata": {},
   "source": [
    "La palabra love aparece 196 veces en la plataforma netflix\n",
    "-----------------------------------------------------------------------------\n",
    "Consulta 2: Cantidad de películas por plataforma con un puntaje mayor a XX en determinado año"
   ]
  },
  {
   "cell_type": "code",
   "execution_count": 5,
   "metadata": {},
   "outputs": [],
   "source": [
    "def get_score_count(plataform, score, year):\n",
    "    df5 = general_df[(general_df[\"score\"] > score ) & (general_df[\"release_year\"] == year)]  #Filtro de busqueda por Score y Año\n",
    "    if plataform == \"netflix\":\n",
    "        df_gsc = df5[(df5[\"type\"] == \"movie\") & (df5[\"ID\"].str.findall(\"n\"))]                #Genero un DF general con filtros especificos segun busqueda\n",
    "    elif plataform == \"amazon\":\n",
    "        df_gsc = df5[(df5[\"type\"] == \"movie\") & (df5[\"ID\"].str.findall(\"a\"))]\n",
    "    elif plataform == \"hulu\":\n",
    "        df_gsc = df5[(df5[\"type\"] == \"movie\") & (df5[\"ID\"].str.findall(\"h\"))]\n",
    "    elif plataform == \"disney\":\n",
    "        df_gsc = df5[(df5[\"type\"] == \"movie\") & (df5[\"ID\"].str.findall(\"d\"))]\n",
    "    else:\n",
    "        print(\"Try again\")\n",
    "\n",
    "    return print(\"Peliculas de\", plataform, \"del año\", year, \"con puntaje\", score, \":\", df_gsc.shape[0])\n",
    "          "
   ]
  },
  {
   "cell_type": "code",
   "execution_count": 8,
   "metadata": {},
   "outputs": [
    {
     "ename": "KeyError",
     "evalue": "'score'",
     "output_type": "error",
     "traceback": [
      "\u001b[1;31m---------------------------------------------------------------------------\u001b[0m",
      "\u001b[1;31mKeyError\u001b[0m                                  Traceback (most recent call last)",
      "File \u001b[1;32mc:\\Users\\Usuario\\AppData\\Local\\Programs\\Python\\Python310\\lib\\site-packages\\pandas\\core\\indexes\\base.py:3803\u001b[0m, in \u001b[0;36mIndex.get_loc\u001b[1;34m(self, key, method, tolerance)\u001b[0m\n\u001b[0;32m   3802\u001b[0m \u001b[39mtry\u001b[39;00m:\n\u001b[1;32m-> 3803\u001b[0m     \u001b[39mreturn\u001b[39;00m \u001b[39mself\u001b[39;49m\u001b[39m.\u001b[39;49m_engine\u001b[39m.\u001b[39;49mget_loc(casted_key)\n\u001b[0;32m   3804\u001b[0m \u001b[39mexcept\u001b[39;00m \u001b[39mKeyError\u001b[39;00m \u001b[39mas\u001b[39;00m err:\n",
      "File \u001b[1;32mc:\\Users\\Usuario\\AppData\\Local\\Programs\\Python\\Python310\\lib\\site-packages\\pandas\\_libs\\index.pyx:138\u001b[0m, in \u001b[0;36mpandas._libs.index.IndexEngine.get_loc\u001b[1;34m()\u001b[0m\n",
      "File \u001b[1;32mc:\\Users\\Usuario\\AppData\\Local\\Programs\\Python\\Python310\\lib\\site-packages\\pandas\\_libs\\index.pyx:165\u001b[0m, in \u001b[0;36mpandas._libs.index.IndexEngine.get_loc\u001b[1;34m()\u001b[0m\n",
      "File \u001b[1;32mpandas\\_libs\\hashtable_class_helper.pxi:5745\u001b[0m, in \u001b[0;36mpandas._libs.hashtable.PyObjectHashTable.get_item\u001b[1;34m()\u001b[0m\n",
      "File \u001b[1;32mpandas\\_libs\\hashtable_class_helper.pxi:5753\u001b[0m, in \u001b[0;36mpandas._libs.hashtable.PyObjectHashTable.get_item\u001b[1;34m()\u001b[0m\n",
      "\u001b[1;31mKeyError\u001b[0m: 'score'",
      "\nThe above exception was the direct cause of the following exception:\n",
      "\u001b[1;31mKeyError\u001b[0m                                  Traceback (most recent call last)",
      "\u001b[1;32mc:\\Users\\Usuario\\Documents\\labs1\\desarrollo de funciones.ipynb Celda 9\u001b[0m in \u001b[0;36m<cell line: 1>\u001b[1;34m()\u001b[0m\n\u001b[1;32m----> <a href='vscode-notebook-cell:/c%3A/Users/Usuario/Documents/labs1/desarrollo%20de%20funciones.ipynb#X12sZmlsZQ%3D%3D?line=0'>1</a>\u001b[0m get_score_count(\u001b[39m'\u001b[39;49m\u001b[39mnetflix\u001b[39;49m\u001b[39m'\u001b[39;49m, \u001b[39m85\u001b[39;49m, \u001b[39m2010\u001b[39;49m)\n",
      "\u001b[1;32mc:\\Users\\Usuario\\Documents\\labs1\\desarrollo de funciones.ipynb Celda 9\u001b[0m in \u001b[0;36mget_score_count\u001b[1;34m(plataform, score, year)\u001b[0m\n\u001b[0;32m      <a href='vscode-notebook-cell:/c%3A/Users/Usuario/Documents/labs1/desarrollo%20de%20funciones.ipynb#X12sZmlsZQ%3D%3D?line=0'>1</a>\u001b[0m \u001b[39mdef\u001b[39;00m \u001b[39mget_score_count\u001b[39m(plataform, score, year):\n\u001b[1;32m----> <a href='vscode-notebook-cell:/c%3A/Users/Usuario/Documents/labs1/desarrollo%20de%20funciones.ipynb#X12sZmlsZQ%3D%3D?line=1'>2</a>\u001b[0m     df5 \u001b[39m=\u001b[39m general_df[(general_df[\u001b[39m\"\u001b[39;49m\u001b[39mscore\u001b[39;49m\u001b[39m\"\u001b[39;49m] \u001b[39m>\u001b[39m score ) \u001b[39m&\u001b[39m (general_df[\u001b[39m\"\u001b[39m\u001b[39mrelease_year\u001b[39m\u001b[39m\"\u001b[39m] \u001b[39m==\u001b[39m year)]  \u001b[39m#Filtro de busqueda por Score y Año\u001b[39;00m\n\u001b[0;32m      <a href='vscode-notebook-cell:/c%3A/Users/Usuario/Documents/labs1/desarrollo%20de%20funciones.ipynb#X12sZmlsZQ%3D%3D?line=2'>3</a>\u001b[0m     \u001b[39mif\u001b[39;00m plataform \u001b[39m==\u001b[39m \u001b[39m\"\u001b[39m\u001b[39mnetflix\u001b[39m\u001b[39m\"\u001b[39m:\n\u001b[0;32m      <a href='vscode-notebook-cell:/c%3A/Users/Usuario/Documents/labs1/desarrollo%20de%20funciones.ipynb#X12sZmlsZQ%3D%3D?line=3'>4</a>\u001b[0m         df_gsc \u001b[39m=\u001b[39m df5[(df5[\u001b[39m\"\u001b[39m\u001b[39mtype\u001b[39m\u001b[39m\"\u001b[39m] \u001b[39m==\u001b[39m \u001b[39m\"\u001b[39m\u001b[39mmovie\u001b[39m\u001b[39m\"\u001b[39m) \u001b[39m&\u001b[39m (df5[\u001b[39m\"\u001b[39m\u001b[39mID\u001b[39m\u001b[39m\"\u001b[39m]\u001b[39m.\u001b[39mstr\u001b[39m.\u001b[39mfindall(\u001b[39m\"\u001b[39m\u001b[39mn\u001b[39m\u001b[39m\"\u001b[39m))]                \u001b[39m#Genero un DF general con filtros especificos segun busqueda\u001b[39;00m\n",
      "File \u001b[1;32mc:\\Users\\Usuario\\AppData\\Local\\Programs\\Python\\Python310\\lib\\site-packages\\pandas\\core\\frame.py:3805\u001b[0m, in \u001b[0;36mDataFrame.__getitem__\u001b[1;34m(self, key)\u001b[0m\n\u001b[0;32m   3803\u001b[0m \u001b[39mif\u001b[39;00m \u001b[39mself\u001b[39m\u001b[39m.\u001b[39mcolumns\u001b[39m.\u001b[39mnlevels \u001b[39m>\u001b[39m \u001b[39m1\u001b[39m:\n\u001b[0;32m   3804\u001b[0m     \u001b[39mreturn\u001b[39;00m \u001b[39mself\u001b[39m\u001b[39m.\u001b[39m_getitem_multilevel(key)\n\u001b[1;32m-> 3805\u001b[0m indexer \u001b[39m=\u001b[39m \u001b[39mself\u001b[39;49m\u001b[39m.\u001b[39;49mcolumns\u001b[39m.\u001b[39;49mget_loc(key)\n\u001b[0;32m   3806\u001b[0m \u001b[39mif\u001b[39;00m is_integer(indexer):\n\u001b[0;32m   3807\u001b[0m     indexer \u001b[39m=\u001b[39m [indexer]\n",
      "File \u001b[1;32mc:\\Users\\Usuario\\AppData\\Local\\Programs\\Python\\Python310\\lib\\site-packages\\pandas\\core\\indexes\\base.py:3805\u001b[0m, in \u001b[0;36mIndex.get_loc\u001b[1;34m(self, key, method, tolerance)\u001b[0m\n\u001b[0;32m   3803\u001b[0m     \u001b[39mreturn\u001b[39;00m \u001b[39mself\u001b[39m\u001b[39m.\u001b[39m_engine\u001b[39m.\u001b[39mget_loc(casted_key)\n\u001b[0;32m   3804\u001b[0m \u001b[39mexcept\u001b[39;00m \u001b[39mKeyError\u001b[39;00m \u001b[39mas\u001b[39;00m err:\n\u001b[1;32m-> 3805\u001b[0m     \u001b[39mraise\u001b[39;00m \u001b[39mKeyError\u001b[39;00m(key) \u001b[39mfrom\u001b[39;00m \u001b[39merr\u001b[39;00m\n\u001b[0;32m   3806\u001b[0m \u001b[39mexcept\u001b[39;00m \u001b[39mTypeError\u001b[39;00m:\n\u001b[0;32m   3807\u001b[0m     \u001b[39m# If we have a listlike key, _check_indexing_error will raise\u001b[39;00m\n\u001b[0;32m   3808\u001b[0m     \u001b[39m#  InvalidIndexError. Otherwise we fall through and re-raise\u001b[39;00m\n\u001b[0;32m   3809\u001b[0m     \u001b[39m#  the TypeError.\u001b[39;00m\n\u001b[0;32m   3810\u001b[0m     \u001b[39mself\u001b[39m\u001b[39m.\u001b[39m_check_indexing_error(key)\n",
      "\u001b[1;31mKeyError\u001b[0m: 'score'"
     ]
    }
   ],
   "source": [
    "\n",
    "get_score_count('netflix', 85, 2010)"
   ]
  },
  {
   "cell_type": "code",
   "execution_count": null,
   "metadata": {},
   "outputs": [],
   "source": [
    "get_word_count"
   ]
  },
  {
   "cell_type": "code",
   "execution_count": null,
   "metadata": {},
   "outputs": [],
   "source": [
    "get_second_score"
   ]
  },
  {
   "cell_type": "code",
   "execution_count": null,
   "metadata": {},
   "outputs": [],
   "source": [
    "get_longest"
   ]
  },
  {
   "cell_type": "code",
   "execution_count": null,
   "metadata": {},
   "outputs": [],
   "source": [
    "get_rating_count"
   ]
  }
 ],
 "metadata": {
  "kernelspec": {
   "display_name": "Python 3",
   "language": "python",
   "name": "python3"
  },
  "language_info": {
   "codemirror_mode": {
    "name": "ipython",
    "version": 3
   },
   "file_extension": ".py",
   "mimetype": "text/x-python",
   "name": "python",
   "nbconvert_exporter": "python",
   "pygments_lexer": "ipython3",
   "version": "3.10.1"
  },
  "orig_nbformat": 4
 },
 "nbformat": 4,
 "nbformat_minor": 2
}
